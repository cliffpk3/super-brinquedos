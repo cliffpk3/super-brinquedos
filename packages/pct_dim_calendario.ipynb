{
 "cells": [
  {
   "cell_type": "code",
   "execution_count": 1,
   "id": "fb76d4d1",
   "metadata": {},
   "outputs": [],
   "source": [
    "import pandas as pd\n",
    "import calendar\n",
    "from datetime import datetime"
   ]
  },
  {
   "cell_type": "code",
   "execution_count": 2,
   "id": "1a2fc27c",
   "metadata": {},
   "outputs": [],
   "source": [
    "import pandas as pd\n",
    "from datetime import datetime\n",
    "\n",
    "def get_trimestre(month):\n",
    "    return (month - 1) // 3 + 1\n",
    "\n",
    "def get_bimestre(month):\n",
    "    return (month - 1) // 2 + 1\n"
   ]
  },
  {
   "cell_type": "code",
   "execution_count": 3,
   "id": "18095804",
   "metadata": {
    "scrolled": false
   },
   "outputs": [],
   "source": [
    "ano_desejado = 2023\n",
    "data_inicio = f\"{ano_desejado}-01-01\"\n",
    "data_fim = f\"{ano_desejado}-12-31\"\n",
    "datas = pd.date_range(data_inicio, data_fim)\n"
   ]
  },
  {
   "cell_type": "code",
   "execution_count": 4,
   "id": "1497fc69",
   "metadata": {},
   "outputs": [],
   "source": [
    "data = []\n",
    "data_numerica = []\n",
    "ano = []\n",
    "mes = []\n",
    "dia = []\n",
    "num_dia_semana = []\n",
    "num_semana_ano = []\n",
    "num_semana_mes = []\n",
    "num_trimestre = []\n",
    "num_bimestre = []\n",
    "desc_dia_semana = []\n",
    "desc_mes = []\n",
    "desc_mes_abrev = []\n"
   ]
  },
  {
   "cell_type": "code",
   "execution_count": 5,
   "id": "f3cee773",
   "metadata": {},
   "outputs": [],
   "source": [
    "for dt in datas:\n",
    "    data.append(dt)\n",
    "    data_numerica.append(int(dt.strftime('%Y%m%d')))\n",
    "    ano.append(dt.year)\n",
    "    mes.append(dt.month)\n",
    "    dia.append(dt.day)\n",
    "    num_dia_semana.append((dt.weekday() + 1) % 7)  # Ajuste para começar a partir de domingo\n",
    "    num_semana_ano.append(dt.isocalendar()[1])\n",
    "    num_semana_mes.append((dt.day - 1) // 7 + 1)\n",
    "    num_trimestre.append(get_trimestre(dt.month))\n",
    "    num_bimestre.append(get_bimestre(dt.month))\n",
    "    desc_dia_semana.append(dt.strftime('%A'))\n",
    "    desc_mes.append(dt.strftime('%B'))\n",
    "    desc_mes_abrev.append(dt.strftime('%b'))\n"
   ]
  },
  {
   "cell_type": "code",
   "execution_count": 6,
   "id": "023b1de7",
   "metadata": {},
   "outputs": [],
   "source": [
    "calendario_df = pd.DataFrame({\n",
    "    'data': data,\n",
    "    'data_numerica': data_numerica,\n",
    "    'ano': ano,\n",
    "    'mes': mes,\n",
    "    'dia': dia,\n",
    "    'num_dia_semana': num_dia_semana,\n",
    "    'num_semana_ano': num_semana_ano,\n",
    "    'num_semana_mes': num_semana_mes,\n",
    "    'num_trimestre': num_trimestre,\n",
    "    'num_bimestre': num_bimestre,\n",
    "    'desc_dia_semana': desc_dia_semana,\n",
    "    'desc_mes': desc_mes,\n",
    "    'desc_mes_abrev': desc_mes_abrev\n",
    "})\n"
   ]
  },
  {
   "cell_type": "code",
   "execution_count": 7,
   "id": "ad2d4718",
   "metadata": {},
   "outputs": [],
   "source": [
    "columns = ['dt_referencia','sk_data','nr_ano','nr_mes','nr_dia','nr_dia_semana','nr_semana_ano','nr_semana_mes','nr_trimestre','nr_bimestre','ds_dia_semana','ds_mes','ds_mes_abrev']"
   ]
  },
  {
   "cell_type": "code",
   "execution_count": 8,
   "id": "b453d7cb",
   "metadata": {},
   "outputs": [],
   "source": [
    "calendario_df.columns = columns"
   ]
  },
  {
   "cell_type": "code",
   "execution_count": 9,
   "id": "261a10de",
   "metadata": {},
   "outputs": [],
   "source": [
    "dim_calendario = calendario_df"
   ]
  },
  {
   "cell_type": "code",
   "execution_count": 11,
   "id": "5af14611",
   "metadata": {},
   "outputs": [],
   "source": [
    "dim_calendario.to_csv(path_or_buf=\"E:\\\\iMaps\\\\tables\\\\dim_calendario_reworked.csv\", sep=\",\", index=False)"
   ]
  },
  {
   "cell_type": "code",
   "execution_count": null,
   "id": "ede2e9a6",
   "metadata": {},
   "outputs": [],
   "source": []
  }
 ],
 "metadata": {
  "kernelspec": {
   "display_name": "Python 3 (ipykernel)",
   "language": "python",
   "name": "python3"
  },
  "language_info": {
   "codemirror_mode": {
    "name": "ipython",
    "version": 3
   },
   "file_extension": ".py",
   "mimetype": "text/x-python",
   "name": "python",
   "nbconvert_exporter": "python",
   "pygments_lexer": "ipython3",
   "version": "3.9.13"
  }
 },
 "nbformat": 4,
 "nbformat_minor": 5
}
