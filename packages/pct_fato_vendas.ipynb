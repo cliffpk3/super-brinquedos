{
 "cells": [
  {
   "cell_type": "code",
   "execution_count": 1,
   "id": "27d334e2",
   "metadata": {},
   "outputs": [],
   "source": [
    "import pandas as pd"
   ]
  },
  {
   "cell_type": "code",
   "execution_count": 2,
   "id": "fc762c59",
   "metadata": {},
   "outputs": [],
   "source": [
    "fato_vendas = pd.read_csv('E:\\\\iMaps\\\\tables\\\\fato_vendas.csv')"
   ]
  },
  {
   "cell_type": "code",
   "execution_count": 3,
   "id": "ac34fbdc",
   "metadata": {},
   "outputs": [],
   "source": [
    "fato_vendas['data_venda'] = pd.to_datetime(fato_vendas['data_venda']).dt.date"
   ]
  },
  {
   "cell_type": "code",
   "execution_count": 4,
   "id": "80b42f52",
   "metadata": {},
   "outputs": [],
   "source": [
    "fato_vendas['sk_date'] = fato_vendas['data_venda'].astype(str).apply(lambda x: x.replace(\"-\",\"\")).astype(int)"
   ]
  },
  {
   "cell_type": "code",
   "execution_count": 5,
   "id": "aff3d0e4",
   "metadata": {},
   "outputs": [],
   "source": [
    "columns = ['dt_venda','sk_produto','sk_vendedor','nr_qtd','nrd_valor_total','nrd_custo_venda','sk_date']\n",
    "fato_vendas.columns = columns"
   ]
  },
  {
   "cell_type": "code",
   "execution_count": 6,
   "id": "2d683bc3",
   "metadata": {},
   "outputs": [],
   "source": [
    "fato_vendas.to_csv(path_or_buf=\"E:\\\\iMaps\\\\tables\\\\fato_vendas_reworked.csv\", sep=\",\", index=False)"
   ]
  },
  {
   "cell_type": "code",
   "execution_count": null,
   "id": "799dc1e6",
   "metadata": {},
   "outputs": [],
   "source": []
  }
 ],
 "metadata": {
  "kernelspec": {
   "display_name": "Python 3 (ipykernel)",
   "language": "python",
   "name": "python3"
  },
  "language_info": {
   "codemirror_mode": {
    "name": "ipython",
    "version": 3
   },
   "file_extension": ".py",
   "mimetype": "text/x-python",
   "name": "python",
   "nbconvert_exporter": "python",
   "pygments_lexer": "ipython3",
   "version": "3.9.13"
  }
 },
 "nbformat": 4,
 "nbformat_minor": 5
}
