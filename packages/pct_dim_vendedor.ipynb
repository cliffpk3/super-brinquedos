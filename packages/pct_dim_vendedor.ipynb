{
 "cells": [
  {
   "cell_type": "code",
   "execution_count": 1,
   "id": "dc8b733d",
   "metadata": {},
   "outputs": [],
   "source": [
    "import pandas as pd"
   ]
  },
  {
   "cell_type": "code",
   "execution_count": 2,
   "id": "6717e581",
   "metadata": {},
   "outputs": [],
   "source": [
    "dim_vendedor = pd.read_csv('E:\\\\iMaps\\\\tables\\\\dim_vendedor.csv')"
   ]
  },
  {
   "cell_type": "code",
   "execution_count": 3,
   "id": "cf0cde3a",
   "metadata": {},
   "outputs": [],
   "source": [
    "columns = ['sk_vendedor','ds_nome_vendedor','ds_genero_vendedor']"
   ]
  },
  {
   "cell_type": "code",
   "execution_count": 4,
   "id": "f48846a7",
   "metadata": {},
   "outputs": [],
   "source": [
    "dim_vendedor.columns = columns"
   ]
  },
  {
   "cell_type": "code",
   "execution_count": 5,
   "id": "1de6f42f",
   "metadata": {},
   "outputs": [],
   "source": [
    "dim_vendedor.to_csv(path_or_buf=\"E:\\\\iMaps\\\\tables\\\\dim_vendedor_reworked.csv\", sep=\",\", index=False)"
   ]
  },
  {
   "cell_type": "code",
   "execution_count": null,
   "id": "01608938",
   "metadata": {},
   "outputs": [],
   "source": []
  }
 ],
 "metadata": {
  "kernelspec": {
   "display_name": "Python 3 (ipykernel)",
   "language": "python",
   "name": "python3"
  },
  "language_info": {
   "codemirror_mode": {
    "name": "ipython",
    "version": 3
   },
   "file_extension": ".py",
   "mimetype": "text/x-python",
   "name": "python",
   "nbconvert_exporter": "python",
   "pygments_lexer": "ipython3",
   "version": "3.9.13"
  }
 },
 "nbformat": 4,
 "nbformat_minor": 5
}
