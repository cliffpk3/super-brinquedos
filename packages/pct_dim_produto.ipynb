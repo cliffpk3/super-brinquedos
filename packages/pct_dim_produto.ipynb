{
 "cells": [
  {
   "cell_type": "code",
   "execution_count": 1,
   "id": "a453df61",
   "metadata": {},
   "outputs": [],
   "source": [
    "import pandas as pd"
   ]
  },
  {
   "cell_type": "code",
   "execution_count": 2,
   "id": "e1d4413a",
   "metadata": {},
   "outputs": [],
   "source": [
    "dim_produto = pd.read_csv('E:\\\\iMaps\\\\tables\\\\dim_produto.csv')"
   ]
  },
  {
   "cell_type": "code",
   "execution_count": 3,
   "id": "ac7e2462",
   "metadata": {},
   "outputs": [],
   "source": [
    "columns = ['sk_produto','ds_nome_produto','ds_categoria_produto','ds_subcategoria_produto']"
   ]
  },
  {
   "cell_type": "code",
   "execution_count": 4,
   "id": "438d4f79",
   "metadata": {},
   "outputs": [],
   "source": [
    "dim_produto.columns = columns"
   ]
  },
  {
   "cell_type": "code",
   "execution_count": 5,
   "id": "0289d420",
   "metadata": {},
   "outputs": [],
   "source": [
    "dim_produto.to_csv(path_or_buf=\"E:\\\\iMaps\\\\tables\\\\dim_produto_reworked.csv\", sep=\",\", index=False)"
   ]
  },
  {
   "cell_type": "code",
   "execution_count": null,
   "id": "7541989e",
   "metadata": {},
   "outputs": [],
   "source": []
  },
  {
   "cell_type": "code",
   "execution_count": null,
   "id": "77625d36",
   "metadata": {},
   "outputs": [],
   "source": []
  }
 ],
 "metadata": {
  "kernelspec": {
   "display_name": "Python 3 (ipykernel)",
   "language": "python",
   "name": "python3"
  },
  "language_info": {
   "codemirror_mode": {
    "name": "ipython",
    "version": 3
   },
   "file_extension": ".py",
   "mimetype": "text/x-python",
   "name": "python",
   "nbconvert_exporter": "python",
   "pygments_lexer": "ipython3",
   "version": "3.9.13"
  }
 },
 "nbformat": 4,
 "nbformat_minor": 5
}
